{
 "cells": [
  {
   "cell_type": "markdown",
   "metadata": {},
   "source": [
    "# AREA OF CIRCLE\n"
   ]
  },
  {
   "cell_type": "code",
   "execution_count": 1,
   "metadata": {},
   "outputs": [
    {
     "name": "stdout",
     "output_type": "stream",
     "text": [
      "0.78625\n"
     ]
    }
   ],
   "source": [
    "r = 0.5 \n",
    "area = 3.145*r*r\n",
    "print(area)"
   ]
  },
  {
   "cell_type": "markdown",
   "metadata": {},
   "source": [
    "# CHECKING NUMBER POSITIVE, NEGATIVE OR ZERO"
   ]
  },
  {
   "cell_type": "code",
   "execution_count": 2,
   "metadata": {},
   "outputs": [
    {
     "name": "stdout",
     "output_type": "stream",
     "text": [
      "Enter Number25\n",
      "Positive Number Entered\n"
     ]
    }
   ],
   "source": [
    "a = int(input(\"Enter Number\"))\n",
    "if a > 0:\n",
    "   print(\"Positive Number Entered\")\n",
    "elif a < 0:\n",
    "    print(\"Negative Number Entered\")\n",
    "else :\n",
    "    print(\"Zero Entered\")"
   ]
  },
  {
   "cell_type": "markdown",
   "metadata": {},
   "source": [
    "# DIVISIBILTY CHECK OF TWO NUMBERS"
   ]
  },
  {
   "cell_type": "code",
   "execution_count": 3,
   "metadata": {},
   "outputs": [
    {
     "name": "stdout",
     "output_type": "stream",
     "text": [
      "Enter Numerator25\n",
      "Enter Denomerator25\n",
      "Number 25 Is Completely Divisble By  25\n"
     ]
    }
   ],
   "source": [
    "a = int(input(\"Enter Numerator\"))\n",
    "b = int(input(\"Enter Denomerator\"))\n",
    "c = a % b \n",
    "if c == 0:\n",
    "    print(\"Number\",a,\"Is Completely Divisble By \",b)\n",
    "else :\n",
    "    print(\"Number\",a,\"Is Not Completely Divisible By\",b)\n",
    "    \n",
    "   "
   ]
  },
  {
   "cell_type": "markdown",
   "metadata": {},
   "source": [
    "# DAYS CALCULATOR"
   ]
  },
  {
   "cell_type": "code",
   "execution_count": 2,
   "metadata": {},
   "outputs": [
    {
     "name": "stdout",
     "output_type": "stream",
     "text": [
      "Enter Date In Format dd/mm/yy: 05/05/2018\n",
      "Enter Date In Format dd/mm/yy: 06/06/2018\n",
      "There are 32 days between 2018-05-05 00:00:00 and 2018-06-06 00:00:00.\n"
     ]
    }
   ],
   "source": [
    "import datetime\n",
    "\n",
    "s=datetime.datetime.strptime(input('Enter Date In Format dd/mm/yy: '), '%m/%d/%Y')\n",
    "e=datetime.datetime.strptime(input('Enter Date In Format dd/mm/yy: '), '%m/%d/%Y')\n",
    "remaindDays=e-s\n",
    "print(f\"There are {remaindDays.days} days between {s} and {e}.\")"
   ]
  },
  {
   "cell_type": "markdown",
   "metadata": {},
   "source": [
    "# CALCULATE VOLUME OF A SPHERE"
   ]
  },
  {
   "cell_type": "code",
   "execution_count": 3,
   "metadata": {},
   "outputs": [
    {
     "name": "stdout",
     "output_type": "stream",
     "text": [
      "Enter Radius Of A Sphere856\n",
      "Volume Of Sphere With Radius 856 Is 2625969506.986666\n"
     ]
    }
   ],
   "source": [
    "r = int(input(\"Enter Radius Of A Sphere\"))\n",
    "v = 4/3*3.14*r*r*r\n",
    "print(\"Volume Of Sphere With Radius\",r,\"Is\",v)"
   ]
  },
  {
   "cell_type": "markdown",
   "metadata": {},
   "source": [
    "# COPY STRING \"n\" TIMES"
   ]
  },
  {
   "cell_type": "code",
   "execution_count": 4,
   "metadata": {},
   "outputs": [
    {
     "name": "stdout",
     "output_type": "stream",
     "text": [
      "Enter Stringmy name is sohail merchant\n",
      "How Many Copies Of String You Need: 5\n",
      "5  Copies Of my name is sohail merchant Are my name is sohail merchantmy name is sohail merchantmy name is sohail merchantmy name is sohail merchantmy name is sohail merchant\n"
     ]
    }
   ],
   "source": [
    "s = input(\"Enter String\")\n",
    "a = int(input(\"How Many Copies Of String You Need: \"))\n",
    "print(a,\" Copies Of\",s,\"Are\",a*s)\n",
    "              "
   ]
  },
  {
   "cell_type": "markdown",
   "metadata": {},
   "source": [
    "# CHECK IF NUMBER IS EVEN OR ODD"
   ]
  },
  {
   "cell_type": "code",
   "execution_count": 5,
   "metadata": {},
   "outputs": [
    {
     "name": "stdout",
     "output_type": "stream",
     "text": [
      "Enter Number56\n",
      "56 Is Even\n"
     ]
    }
   ],
   "source": [
    "a = int(input(\"Enter Number\"))\n",
    "if  a%2 == 0:\n",
    "    print(a,\"Is Even\")\n",
    "else:\n",
    "    print(a,\"Is Odd\")"
   ]
  },
  {
   "cell_type": "markdown",
   "metadata": {},
   "source": [
    "# VOWEL TESTER"
   ]
  },
  {
   "cell_type": "code",
   "execution_count": 6,
   "metadata": {},
   "outputs": [
    {
     "name": "stdout",
     "output_type": "stream",
     "text": [
      "Enter A Character k\n",
      "Letter k Is Not Vowel\n"
     ]
    }
   ],
   "source": [
    "a = input(\"Enter A Character \")\n",
    "if a == 'A' or a== 'a' or a == 'E' or a == 'e' or a == 'i' or a == 'I' or a == 'O' or a == 'o' or a == 'u' or a== 'U':\n",
    "    print(\"Letter\",a,\"Is Vowel\")\n",
    "else:\n",
    "    print(\"Letter\",a,\"Is Not Vowel\")"
   ]
  },
  {
   "cell_type": "markdown",
   "metadata": {},
   "source": [
    "# TRIANGLE AREA"
   ]
  },
  {
   "cell_type": "code",
   "execution_count": 7,
   "metadata": {},
   "outputs": [
    {
     "name": "stdout",
     "output_type": "stream",
     "text": [
      "Enter Magnitude Of Triangle Base: 65\n",
      "Enter Magnitude Of Triangle Height: 78\n",
      "Area Of A Triangle With Height 78 And Base 65 Is 2535.0\n"
     ]
    }
   ],
   "source": [
    "b = int(input(\"Enter Magnitude Of Triangle Base: \"))\n",
    "l = int(input(\"Enter Magnitude Of Triangle Height: \"))\n",
    "print(\"Area Of A Triangle With Height\",l,\"And Base\",b,\"Is\",0.5*b*l)"
   ]
  },
  {
   "cell_type": "markdown",
   "metadata": {},
   "source": [
    "# CALCULATE INTEREST"
   ]
  },
  {
   "cell_type": "code",
   "execution_count": 8,
   "metadata": {},
   "outputs": [
    {
     "name": "stdout",
     "output_type": "stream",
     "text": [
      "Please Enter Principal Amount: 7856\n",
      "Please Enter Rate Of Interest In %: 11\n",
      "Please Enter Number Of Years For Investment: 11\n",
      "After 11 Years Your Principal Amount Of 7856 Over An Interest Of 11.0 Will Be 17361.760000000002\n"
     ]
    }
   ],
   "source": [
    "p = int(input(\"Please Enter Principal Amount: \"))\n",
    "i = float(input(\"Please Enter Rate Of Interest In %: \"))\n",
    "r = int(input(\"Please Enter Number Of Years For Investment: \"))\n",
    "print(\"After\",r,\"Years Your Principal Amount Of\",p,\"Over An Interest Of\",i,\"Will Be\",p*i/100*r+p)"
   ]
  },
  {
   "cell_type": "markdown",
   "metadata": {},
   "source": [
    "# EUCLIDEAN DISTANCE"
   ]
  },
  {
   "cell_type": "code",
   "execution_count": 9,
   "metadata": {},
   "outputs": [
    {
     "name": "stdout",
     "output_type": "stream",
     "text": [
      "Enter Co-ordinate For x1: 78\n",
      "Enter Co-ordinate For y1: 41\n",
      "Enter Co-ordinate For x2: 11\n",
      "Enter Co-ordinate For y2: 52\n",
      "Distance Between Points ( 78.0 , 41.0 ) and ( 11.0 , 52.0 ) Is 67.89698078707183\n"
     ]
    }
   ],
   "source": [
    "a = float(input(\"Enter Co-ordinate For x1: \"))\n",
    "b = float(input(\"Enter Co-ordinate For y1: \"))\n",
    "c = float(input(\"Enter Co-ordinate For x2: \"))\n",
    "d = float(input(\"Enter Co-ordinate For y2: \"))\n",
    "e = pow(pow((a-c),2)+pow((b-d),2),0.5)\n",
    "print(\"Distance Between Points (\",a,\",\",b,\") and (\",c,\",\",d,\") Is\",e)"
   ]
  },
  {
   "cell_type": "markdown",
   "metadata": {},
   "source": [
    "# FEET TO CENTIMETER CONVERTER"
   ]
  },
  {
   "cell_type": "code",
   "execution_count": 10,
   "metadata": {},
   "outputs": [
    {
     "name": "stdout",
     "output_type": "stream",
     "text": [
      "Enter Height In Feet: 84\n",
      "There Are 2560.32 cm In 84.0 feet\n"
     ]
    }
   ],
   "source": [
    "f = float(input(\"Enter Height In Feet: \"))\n",
    "print(\"There Are\",30.48*f,\"cm In\",f,\"feet\")"
   ]
  },
  {
   "cell_type": "markdown",
   "metadata": {},
   "source": [
    "# BMI CALCULATOR"
   ]
  },
  {
   "cell_type": "code",
   "execution_count": 11,
   "metadata": {},
   "outputs": [
    {
     "name": "stdout",
     "output_type": "stream",
     "text": [
      "Enter Height In cm: 563\n",
      "Enter Weight In kg: 11\n",
      "Your BMI Is 0.34703709195536475\n"
     ]
    }
   ],
   "source": [
    "h = float(input(\"Enter Height In cm: \"))\n",
    "w = float(input(\"Enter Weight In kg: \"))\n",
    "print(\"Your BMI Is\",w/pow(h/100,2))"
   ]
  },
  {
   "cell_type": "markdown",
   "metadata": {},
   "source": [
    "# SUM OF 'n' POSITIVE  INTEGERS"
   ]
  },
  {
   "cell_type": "code",
   "execution_count": 12,
   "metadata": {},
   "outputs": [
    {
     "name": "stdout",
     "output_type": "stream",
     "text": [
      "Enter Value Of n: 5\n",
      "Sum Of n Positive Integers Till 5 Is 15\n"
     ]
    }
   ],
   "source": [
    "f = int(input(\"Enter Value Of n: \"))\n",
    "e = 0\n",
    "for g in range(0,f+1,1):\n",
    "    e = e+g\n",
    "    \n",
    "print(\"Sum Of n Positive Integers Till\",f,\"Is\",e)\n",
    "    "
   ]
  },
  {
   "cell_type": "markdown",
   "metadata": {},
   "source": [
    "# DIGITS SUM OF A NUMBER"
   ]
  },
  {
   "cell_type": "code",
   "execution_count": 13,
   "metadata": {},
   "outputs": [
    {
     "name": "stdout",
     "output_type": "stream",
     "text": [
      "Enter A Number: 89\n",
      "Digital Sum:  17\n"
     ]
    }
   ],
   "source": [
    "a = input(\"Enter A Number: \")\n",
    "l = []\n",
    "for e in a:\n",
    "    l.append(int(e))\n",
    "print(\"Digital Sum: \",sum(l))\n"
   ]
  },
  {
   "cell_type": "markdown",
   "metadata": {},
   "source": [
    "# DECIMAL TO BINARY CONVERTER"
   ]
  },
  {
   "cell_type": "code",
   "execution_count": 14,
   "metadata": {},
   "outputs": [
    {
     "name": "stdout",
     "output_type": "stream",
     "text": [
      "Enter A Decimal Number: 55\n",
      "Binary Reputation Of 55 Is:  0b110111\n"
     ]
    }
   ],
   "source": [
    "b = int(input(\"Enter A Decimal Number: \"))\n",
    "print(\"Binary Reputation Of\",b,\"Is: \",bin(b))\n"
   ]
  },
  {
   "cell_type": "markdown",
   "metadata": {},
   "source": [
    "# BINARY TO DECIMAL CONVERTER"
   ]
  },
  {
   "cell_type": "code",
   "execution_count": 15,
   "metadata": {},
   "outputs": [
    {
     "name": "stdout",
     "output_type": "stream",
     "text": [
      "Enter A Binary Number: 655\n",
      "Decimal Reputation Of [] Is 0\n"
     ]
    }
   ],
   "source": [
    "d = list(input(\"Enter A Binary Number: \"))\n",
    "e = 0\n",
    "for f in range(len(d)):\n",
    "    a = d.pop()\n",
    "    if a == '1':\n",
    "        e = e+pow(2,f)\n",
    "\n",
    "print(\"Decimal Reputation Of\",d,\"Is\",e)"
   ]
  },
  {
   "cell_type": "markdown",
   "metadata": {},
   "source": [
    "# VOWEL AND CONSTANT COUNTER"
   ]
  },
  {
   "cell_type": "code",
   "execution_count": 16,
   "metadata": {},
   "outputs": [
    {
     "name": "stdout",
     "output_type": "stream",
     "text": [
      "Enter Text: 6565\n",
      "Vowels: 0 \n",
      "Consonants: 4\n"
     ]
    }
   ],
   "source": [
    "a = input(\"Enter Text: \")\n",
    "b = 0;\n",
    "c = 0;\n",
    "for d in a:\n",
    "    if d == 'A' or d == 'a' or d == 'E' or d == 'e' or d == 'I' or d == 'i' or d == 'O' or d == 'o' or d == 'U' or d == 'u':\n",
    "        b+=1\n",
    "    else:\n",
    "        c+=1\n",
    "print(\"Vowels:\",b,\"\\nConsonants:\",c)"
   ]
  },
  {
   "cell_type": "markdown",
   "metadata": {},
   "source": [
    "# PALINDROME TESTER"
   ]
  },
  {
   "cell_type": "code",
   "execution_count": 17,
   "metadata": {},
   "outputs": [
    {
     "name": "stdout",
     "output_type": "stream",
     "text": [
      "Enter Text: 4gugjgjg\n",
      "Text 4gugjgjg Is Not Palindrome\n"
     ]
    }
   ],
   "source": [
    "a = input(\"Enter Text: \")\n",
    "c = a\n",
    "a = a.casefold()\n",
    "b = reversed(a)\n",
    "if list(a) == list(b):\n",
    "    print(\"Text\",c,\"Is Palindrome\")\n",
    "else:\n",
    "    print(\"Text\",c,\"Is Not Palindrome\")\n",
    "    "
   ]
  },
  {
   "cell_type": "markdown",
   "metadata": {},
   "source": [
    "# COUNT NUMBERS, ALPHABETS, SPECIAL CHARACTERS AND SPACES"
   ]
  },
  {
   "cell_type": "code",
   "execution_count": 18,
   "metadata": {},
   "outputs": [
    {
     "name": "stdout",
     "output_type": "stream",
     "text": [
      "Enter Text: 45464665\n",
      "Alphabets: 0 \n",
      "Numbers: 8 \n",
      "Spaces: 0 \n",
      "Special Characters: 0\n"
     ]
    }
   ],
   "source": [
    "a = input(\"Enter Text: \")\n",
    "b = c = d = e = 0\n",
    "for f in a:\n",
    "    if f.isalpha():\n",
    "        b+=1\n",
    "    elif f.isdigit():\n",
    "        c+=1\n",
    "    elif f.isspace():\n",
    "        d+=1\n",
    "    else:\n",
    "        e+=1\n",
    "print(\"Alphabets:\",b,\"\\nNumbers:\",c,\"\\nSpaces:\",d,\"\\nSpecial Characters:\",e)"
   ]
  },
  {
   "cell_type": "markdown",
   "metadata": {},
   "source": [
    "# STAR PATTERN"
   ]
  },
  {
   "cell_type": "code",
   "execution_count": 19,
   "metadata": {},
   "outputs": [
    {
     "name": "stdout",
     "output_type": "stream",
     "text": [
      "\n",
      "\n",
      "* \n",
      "\n",
      "* * \n",
      "\n",
      "* * * \n",
      "\n",
      "* * * * \n",
      "\n",
      "* * * * * \n",
      "\n",
      "* * * * \n",
      "\n",
      "* * * \n",
      "\n",
      "* * \n",
      "\n",
      "* \n",
      "\n"
     ]
    }
   ],
   "source": [
    "for a in range(6):\n",
    "    for b in range(a):\n",
    "        print (\"*\", end=\" \") \n",
    "    print(\"\\n\")\n",
    "for a in range(4,0,-1):\n",
    "    for b in range(a):\n",
    "        print (\"*\", end=\" \") \n",
    "    print(\"\\n\")\n",
    "        "
   ]
  },
  {
   "cell_type": "markdown",
   "metadata": {},
   "source": [
    "# NUMBER PATTERN"
   ]
  },
  {
   "cell_type": "code",
   "execution_count": 20,
   "metadata": {},
   "outputs": [
    {
     "name": "stdout",
     "output_type": "stream",
     "text": [
      "1 \n",
      "\n",
      "1 2 \n",
      "\n",
      "1 2 3 \n",
      "\n",
      "1 2 3 4 \n",
      "\n",
      "1 2 3 4 5 \n",
      "\n",
      "1 2 3 4 \n",
      "\n",
      "1 2 3 \n",
      "\n",
      "1 2 \n",
      "\n",
      "1 \n",
      "\n"
     ]
    }
   ],
   "source": [
    "for a in range(1,6):\n",
    "    for b in range(1,a+1):\n",
    "        print(b,end=\" \")\n",
    "    print(\"\\n\")\n",
    "for a in range(5,1,-1):\n",
    "    for b in range(a,1,-1):\n",
    "        print((a+1)-b,end=\" \")\n",
    "    print(\"\\n\")\n"
   ]
  },
  {
   "cell_type": "markdown",
   "metadata": {},
   "source": [
    "# NUMBER PATTERN SECOND PROGRAM"
   ]
  },
  {
   "cell_type": "code",
   "execution_count": 21,
   "metadata": {},
   "outputs": [
    {
     "name": "stdout",
     "output_type": "stream",
     "text": [
      "\n",
      "\n",
      "1 \n",
      "\n",
      "2 2 \n",
      "\n",
      "3 3 3 \n",
      "\n",
      "4 4 4 4 \n",
      "\n",
      "5 5 5 5 5 \n",
      "\n",
      "6 6 6 6 6 6 \n",
      "\n",
      "7 7 7 7 7 7 7 \n",
      "\n",
      "8 8 8 8 8 8 8 8 \n",
      "\n",
      "9 9 9 9 9 9 9 9 9 \n",
      "\n"
     ]
    }
   ],
   "source": [
    "for a in range(10):\n",
    "    for b in range(a):\n",
    "        print(a,end=\" \")\n",
    "    print(\"\\n\")"
   ]
  },
  {
   "cell_type": "code",
   "execution_count": null,
   "metadata": {},
   "outputs": [],
   "source": []
  },
  {
   "cell_type": "code",
   "execution_count": null,
   "metadata": {},
   "outputs": [],
   "source": []
  },
  {
   "cell_type": "code",
   "execution_count": null,
   "metadata": {},
   "outputs": [],
   "source": []
  }
 ],
 "metadata": {
  "kernelspec": {
   "display_name": "Python 3",
   "language": "python",
   "name": "python3"
  },
  "language_info": {
   "codemirror_mode": {
    "name": "ipython",
    "version": 3
   },
   "file_extension": ".py",
   "mimetype": "text/x-python",
   "name": "python",
   "nbconvert_exporter": "python",
   "pygments_lexer": "ipython3",
   "version": "3.7.0"
  }
 },
 "nbformat": 4,
 "nbformat_minor": 2
}
